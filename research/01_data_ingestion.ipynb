{
 "cells": [
  {
   "cell_type": "code",
   "execution_count": 1,
   "metadata": {},
   "outputs": [],
   "source": [
    "import os"
   ]
  },
  {
   "cell_type": "code",
   "execution_count": 2,
   "metadata": {},
   "outputs": [
    {
     "data": {
      "text/plain": [
       "'/Users/macbookpro/Desktop/pixi_hr_project/pixi_hr/research'"
      ]
     },
     "execution_count": 2,
     "metadata": {},
     "output_type": "execute_result"
    }
   ],
   "source": [
    "%pwd"
   ]
  },
  {
   "cell_type": "code",
   "execution_count": 3,
   "metadata": {},
   "outputs": [],
   "source": [
    "os.chdir('../')"
   ]
  },
  {
   "cell_type": "code",
   "execution_count": 4,
   "metadata": {},
   "outputs": [
    {
     "data": {
      "text/plain": [
       "'/Users/macbookpro/Desktop/pixi_hr_project/pixi_hr'"
      ]
     },
     "execution_count": 4,
     "metadata": {},
     "output_type": "execute_result"
    }
   ],
   "source": [
    "%pwd"
   ]
  },
  {
   "cell_type": "markdown",
   "metadata": {},
   "source": [
    "# Entity\n",
    "defining the return types of our data ingestion class.\n",
    "\n",
    "Returns four variables, root directory, source url, local data file path, and unzip data path directory"
   ]
  },
  {
   "cell_type": "code",
   "execution_count": 5,
   "metadata": {},
   "outputs": [],
   "source": [
    "from dataclasses import dataclass\n",
    "from pathlib import Path\n",
    "\n",
    "@dataclass(frozen=True)\n",
    "class DataIngestionConfig:\n",
    "    # Directory where data ingestion artifacts are stored\n",
    "    root_dir: Path\n",
    "    # URL from which data will be downloaded\n",
    "    source_URL: str\n",
    "    # Path to the local file where downloaded data will be saved\n",
    "    local_data_file: Path\n",
    "    # Directory where the zipped data will be extracted\n",
    "    unzip_dir: Path\n"
   ]
  },
  {
   "cell_type": "code",
   "execution_count": 6,
   "metadata": {},
   "outputs": [],
   "source": [
    "from src.pixi_hr.constants import *\n",
    "from src.pixi_hr.utils.common import read_yaml, create_directories"
   ]
  },
  {
   "cell_type": "markdown",
   "metadata": {},
   "source": [
    "Update configuration manager inside src config, i.e. configuration.py"
   ]
  },
  {
   "cell_type": "code",
   "execution_count": 7,
   "metadata": {},
   "outputs": [],
   "source": [
    "class ConfigurationManager:\n",
    "    def __init__(\n",
    "            self,\n",
    "            config_filepath = CONFIG_FILE_PATH,   # Path to the configuration YAML file\n",
    "            params_filepath = PARAMS_FILE_PATH,   # Path to the parameters YAML file\n",
    "            schema_filepath = SCHEMA_FILE_PATH):  # Path to the schema YAML file\n",
    "        \n",
    "        # Load the configuration details from the YAML file\n",
    "\n",
    "        print(type(config_filepath), config_filepath)\n",
    "        self.config = read_yaml(config_filepath)\n",
    "        # Load the parameters details from the YAML file\n",
    "        self.params = read_yaml(params_filepath)\n",
    "        # Load the schema details from the YAML file\n",
    "        self.schema = read_yaml(schema_filepath)\n",
    "\n",
    "\n",
    "        # Create directories as specified in the configuration (e.g., for storing artifacts)\n",
    "        create_directories([self.config.artifacts_root])\n",
    "\n",
    "    def get_data_ingestion_config(self) -> DataIngestionConfig:\n",
    "        # Extract data ingestion configuration from the main configuration\n",
    "        config = self.config.data_ingestion\n",
    "\n",
    "        # Create directories specified in the data ingestion configuration\n",
    "        create_directories([config.root_dir])\n",
    "\n",
    "        # Create an instance of the DataIngestionConfig dataclass using the extracted configuration\n",
    "        data_ingestion_config = DataIngestionConfig(\n",
    "            root_dir=config.root_dir,               # Directory for data ingestion artifacts\n",
    "            source_URL=config.source_URL,           # URL from which data will be downloaded\n",
    "            local_data_file=config.local_data_file, # Local path where downloaded data will be saved\n",
    "            unzip_dir=config.unzip_dir              # Directory where the zipped data will be extracted\n",
    "        )\n",
    "\n",
    "        return data_ingestion_config\n"
   ]
  },
  {
   "cell_type": "markdown",
   "metadata": {},
   "source": [
    "We define the data ingestion configuration"
   ]
  },
  {
   "cell_type": "markdown",
   "metadata": {},
   "source": [
    "Upate Components"
   ]
  },
  {
   "cell_type": "code",
   "execution_count": 8,
   "metadata": {},
   "outputs": [],
   "source": [
    "import os\n",
    "import urllib.request as request\n",
    "import zipfile\n",
    "from pixi_hr import logger\n",
    "from pixi_hr.utils.common import get_size"
   ]
  },
  {
   "cell_type": "code",
   "execution_count": 9,
   "metadata": {},
   "outputs": [],
   "source": [
    "class DataIngestion:\n",
    "    def __init__(self, config: DataIngestionConfig):\n",
    "        \"\"\"\n",
    "        Initialize the DataIngestion class with the provided configuration.\n",
    "        \n",
    "        Args:\n",
    "            config (DataIngestionConfig): Configuration for data ingestion.\n",
    "        \"\"\"\n",
    "        self.config = config\n",
    "\n",
    "    def download_file(self):\n",
    "        \"\"\"\n",
    "        Downloads the data file from the specified source URL to a local path.\n",
    "        If the file already exists locally, logs its size without re-downloading.\n",
    "        \"\"\"\n",
    "        \n",
    "        # Check if the data file already exists locally\n",
    "        if not os.path.exists(self.config.local_data_file):\n",
    "            # If not, download the file\n",
    "            filename, headers = request.urlretrieve(\n",
    "                url=self.config.source_URL,\n",
    "                filename=self.config.local_data_file\n",
    "            )\n",
    "            logger.info(f\"Downloaded {filename} with the following information: \\n {headers}\")\n",
    "        else:\n",
    "            # If file exists, log its size\n",
    "            file_size = get_size(Path(self.config.local_data_file))\n",
    "            logger.info(f\"File already exists of size: {file_size}\")\n",
    "\n",
    "    \n",
    "    def extract_zip_file(self) -> None:\n",
    "        \"\"\"\n",
    "        Extracts the contents of the downloaded ZIP file to a specified directory.\n",
    "        \n",
    "        Returns:\n",
    "            None\n",
    "        \"\"\"\n",
    "        \n",
    "        # Ensure the directory for extraction exists or create it\n",
    "        unzip_path = self.config.unzip_dir\n",
    "        os.makedirs(unzip_path, exist_ok=True)\n",
    "\n",
    "        # Extract the contents of the ZIP file\n",
    "        with zipfile.ZipFile(self.config.local_data_file, 'r') as zip_ref:\n",
    "            zip_ref.extractall(unzip_path)\n",
    "\n"
   ]
  },
  {
   "cell_type": "markdown",
   "metadata": {},
   "source": [
    "Update Pipeline"
   ]
  },
  {
   "cell_type": "code",
   "execution_count": 10,
   "metadata": {},
   "outputs": [
    {
     "name": "stdout",
     "output_type": "stream",
     "text": [
      "<class 'pathlib.PosixPath'> config/config.yaml\n",
      "[2023-08-13 16:24:41,803: 41: pixi_hr_project_logger: INFO: common:  yaml file: config/config.yaml loaded successfully]\n",
      "[2023-08-13 16:24:41,804: 41: pixi_hr_project_logger: INFO: common:  yaml file: params.yaml loaded successfully]\n",
      "[2023-08-13 16:24:41,805: 41: pixi_hr_project_logger: INFO: common:  yaml file: schema.yaml loaded successfully]\n",
      "[2023-08-13 16:24:41,825: 64: pixi_hr_project_logger: INFO: common:  Created directory at: artifacts]\n",
      "[2023-08-13 16:24:41,826: 64: pixi_hr_project_logger: INFO: common:  Created directory at: artifacts/data_ingestion]\n",
      "[2023-08-13 16:24:43,405: 24: pixi_hr_project_logger: INFO: 1789850675:  Downloaded artifacts/data_ingestion/jobs_data_simply_hired.csv.zip with the following information: \n",
      " Connection: close\n",
      "Content-Length: 412936\n",
      "Cache-Control: max-age=300\n",
      "Content-Security-Policy: default-src 'none'; style-src 'unsafe-inline'; sandbox\n",
      "Content-Type: application/zip\n",
      "ETag: \"213d138fc4fa6abfe638cff6cddadc20facb5d9b1f351cf6950fd554e510a41d\"\n",
      "Strict-Transport-Security: max-age=31536000\n",
      "X-Content-Type-Options: nosniff\n",
      "X-Frame-Options: deny\n",
      "X-XSS-Protection: 1; mode=block\n",
      "X-GitHub-Request-Id: E6C6:100FC:135C297:1434CB2:64D8D946\n",
      "Accept-Ranges: bytes\n",
      "Date: Sun, 13 Aug 2023 13:23:19 GMT\n",
      "Via: 1.1 varnish\n",
      "X-Served-By: cache-fra-eddf8230058-FRA\n",
      "X-Cache: MISS\n",
      "X-Cache-Hits: 0\n",
      "X-Timer: S1691932999.031983,VS0,VE188\n",
      "Vary: Authorization,Accept-Encoding,Origin\n",
      "Access-Control-Allow-Origin: *\n",
      "Cross-Origin-Resource-Policy: cross-origin\n",
      "X-Fastly-Request-ID: 69ef3b8781d9fa5dfcb2cc76f8a120c1a3f6e3db\n",
      "Expires: Sun, 13 Aug 2023 13:28:19 GMT\n",
      "Source-Age: 0\n",
      "\n",
      "]\n"
     ]
    }
   ],
   "source": [
    "try:\n",
    "    # Initialize configuration manager to fetch relevant configurations\n",
    "    config = ConfigurationManager()\n",
    "    \n",
    "    # Fetch the data ingestion-specific configuration\n",
    "    data_ingestion_config = config.get_data_ingestion_config()\n",
    "    \n",
    "    # Initialize the data ingestion process with the fetched configuration\n",
    "    data_ingestion = DataIngestion(config=data_ingestion_config)\n",
    "    \n",
    "    # Download the data file from the specified source\n",
    "    data_ingestion.download_file()\n",
    "    \n",
    "    # Extract the downloaded ZIP file to the specified directory\n",
    "    data_ingestion.extract_zip_file()\n",
    "\n",
    "except Exception as e:\n",
    "    # If any error occurs during the process, raise the exception to handle or log it appropriately\n",
    "    raise e\n"
   ]
  }
 ],
 "metadata": {
  "kernelspec": {
   "display_name": "pixi_hr_environment",
   "language": "python",
   "name": "python3"
  },
  "language_info": {
   "codemirror_mode": {
    "name": "ipython",
    "version": 3
   },
   "file_extension": ".py",
   "mimetype": "text/x-python",
   "name": "python",
   "nbconvert_exporter": "python",
   "pygments_lexer": "ipython3",
   "version": "3.8.17"
  },
  "orig_nbformat": 4
 },
 "nbformat": 4,
 "nbformat_minor": 2
}

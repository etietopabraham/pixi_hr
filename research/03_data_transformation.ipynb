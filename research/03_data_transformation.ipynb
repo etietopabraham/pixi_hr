{
 "cells": [
  {
   "cell_type": "markdown",
   "metadata": {},
   "source": [
    "The aim of the transformation pipeline is to prepare the data in a way that it can be easily consumed by your downstream processes, whether that's a machine learning model, a recommendation system, or any other analytics\n",
    "\n",
    "1. Convert the date_of_job_post column into a datetime format.\n",
    "2. Extract the month, day, and year from the date_of_job_post and save them as separate columns.\n",
    "3. Convert categorical columns (title, job_location, company_name, and job_type) to a numerical format, probably using techniques like one-hot encoding or label encoding, depending on the nature of the data and the modeling techniques you plan to use.\n",
    "\n",
    "\n"
   ]
  },
  {
   "cell_type": "code",
   "execution_count": null,
   "metadata": {},
   "outputs": [],
   "source": []
  }
 ],
 "metadata": {
  "language_info": {
   "name": "python"
  },
  "orig_nbformat": 4
 },
 "nbformat": 4,
 "nbformat_minor": 2
}

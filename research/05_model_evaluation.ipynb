{
 "cells": [
  {
   "cell_type": "code",
   "execution_count": 1,
   "metadata": {},
   "outputs": [],
   "source": [
    "import os"
   ]
  },
  {
   "cell_type": "code",
   "execution_count": 2,
   "metadata": {},
   "outputs": [
    {
     "data": {
      "text/plain": [
       "'/Users/macbookpro/Desktop/pixi_hr_project/pixi_hr/research'"
      ]
     },
     "execution_count": 2,
     "metadata": {},
     "output_type": "execute_result"
    }
   ],
   "source": [
    "%pwd"
   ]
  },
  {
   "cell_type": "code",
   "execution_count": 3,
   "metadata": {},
   "outputs": [],
   "source": [
    "os.chdir(\"../\")"
   ]
  },
  {
   "cell_type": "code",
   "execution_count": 4,
   "metadata": {},
   "outputs": [
    {
     "data": {
      "text/plain": [
       "'/Users/macbookpro/Desktop/pixi_hr_project/pixi_hr'"
      ]
     },
     "execution_count": 4,
     "metadata": {},
     "output_type": "execute_result"
    }
   ],
   "source": [
    "%pwd"
   ]
  },
  {
   "cell_type": "markdown",
   "metadata": {},
   "source": [
    "ML Flow Setup"
   ]
  },
  {
   "cell_type": "markdown",
   "metadata": {},
   "source": [
    "Export Configurations in terminal\n",
    "\n",
    "export MLFLOW_TRACKING_URI=https://dagshub.com/etietopabraham/pixi_hr.mlflow \n",
    "export MLFLOW_TRACKING_USERNAME=etietopabraham \n",
    "export MLFLOW_TRACKING_PASSWORD=324bb2aaa6fc82dbfce509eac2ce2cd6a016a869"
   ]
  },
  {
   "cell_type": "markdown",
   "metadata": {},
   "source": [
    "Export Configuration in Jupyter"
   ]
  },
  {
   "cell_type": "code",
   "execution_count": 5,
   "metadata": {},
   "outputs": [],
   "source": [
    "os.environ[\"MLFLOW_TRACKING_URI\"]=\"https://dagshub.com/etietopabraham/pixi_hr.mlflow \"\n",
    "os.environ[\"MLFLOW_TRACKING_USERNAME\"]=\"etietopabraham\"\n",
    "os.environ[\"MLFLOW_TRACKING_PASSWORD\"]=\"324bb2aaa6fc82dbfce509eac2ce2cd6a016a869\""
   ]
  },
  {
   "cell_type": "markdown",
   "metadata": {},
   "source": [
    "Configure config.yaml"
   ]
  },
  {
   "cell_type": "code",
   "execution_count": 11,
   "metadata": {
    "vscode": {
     "languageId": "shellscript"
    }
   },
   "outputs": [
    {
     "ename": "SyntaxError",
     "evalue": "invalid syntax (953188708.py, line 2)",
     "output_type": "error",
     "traceback": [
      "\u001b[0;36m  Cell \u001b[0;32mIn[11], line 2\u001b[0;36m\u001b[0m\n\u001b[0;31m    model_evaluation:\u001b[0m\n\u001b[0m                     ^\u001b[0m\n\u001b[0;31mSyntaxError\u001b[0m\u001b[0;31m:\u001b[0m invalid syntax\n"
     ]
    }
   ],
   "source": [
    "# Model Evaluation Configuration\n",
    "model_evaluation:\n",
    "  # Root directory to store evaluation artifacts\n",
    "  root_dir: artifacts/model_evaluation\n",
    "  \n",
    "  # Path to the test dataset (output from the data transformation stage)\n",
    "  test_data_path: artifacts/data_transformation/test.csv\n",
    "  \n",
    "  # Path to the trained model (output from the model trainer stage)\n",
    "  model_path: artifacts/model_trainer/model.joblib\n",
    "  \n",
    "  # File path to save computed evaluation metrics in JSON format\n",
    "  metric_file_name: artifacts/model_evaluation/metrics.json\n",
    "\n",
    "  # MLFlow URI\n",
    "  mlflow_uri: https://dagshub.com/etietopabraham/pixi_hr.mlflow\n"
   ]
  },
  {
   "cell_type": "markdown",
   "metadata": {},
   "source": [
    "Entity"
   ]
  },
  {
   "cell_type": "code",
   "execution_count": 12,
   "metadata": {},
   "outputs": [],
   "source": [
    "from dataclasses import dataclass\n",
    "from pathlib import Path\n",
    "\n",
    "@dataclass(frozen=True)\n",
    "class ModelEvaluationConfig:\n",
    "    \"\"\"Configuration parameters for the model evaluation stage.\"\"\"\n",
    "\n",
    "    # Root directory to store evaluation artifacts\n",
    "    root_dir: Path\n",
    "\n",
    "    # Path to the test dataset (output from the data transformation stage)\n",
    "    test_data_path: Path\n",
    "\n",
    "    # Path to the trained model (output from the model trainer stage)\n",
    "    model_path: Path\n",
    "\n",
    "    # File path to save computed evaluation metrics in JSON format\n",
    "    metric_file_name: Path\n",
    "\n",
    "    # Dictionary containing all the parameters for model evaluation\n",
    "    all_params: dict\n",
    "\n",
    "    # Name of the target column in the dataset\n",
    "    target_column: str\n",
    "\n",
    "    # URI for the MLFlow server or database\n",
    "    mlflow_uri: str"
   ]
  },
  {
   "cell_type": "markdown",
   "metadata": {},
   "source": [
    "Configuration Manager"
   ]
  },
  {
   "cell_type": "code",
   "execution_count": 13,
   "metadata": {},
   "outputs": [],
   "source": [
    "from src.pixi_hr.constants import *\n",
    "from src.pixi_hr.utils.common import read_yaml, create_directories, save_json\n"
   ]
  },
  {
   "cell_type": "code",
   "execution_count": 14,
   "metadata": {},
   "outputs": [],
   "source": [
    "class ConfigurationManager:\n",
    "    \"\"\"\n",
    "    Manages the configuration for different stages of the data processing and training pipelines.\n",
    "    This class reads from YAML files to get the configurations, parameters, and schema details.\n",
    "    It also provides methods to fetch specific configurations for different stages.\n",
    "    \"\"\"\n",
    "    \n",
    "    def __init__(self, config_filepath=CONFIG_FILE_PATH, params_filepath=PARAMS_FILE_PATH, schema_filepath=SCHEMA_FILE_PATH):\n",
    "        \"\"\"\n",
    "        Initializes the ConfigurationManager class.\n",
    "        \n",
    "        Args:\n",
    "        - config_filepath (str): Path to the main configuration YAML file.\n",
    "        - params_filepath (str): Path to the parameters YAML file.\n",
    "        - schema_filepath (str): Path to the schema YAML file.\n",
    "        \"\"\"\n",
    "\n",
    "        # Load configuration, parameters, and schema details from their respective YAML files\n",
    "        self.config = read_yaml(config_filepath)\n",
    "        self.params = read_yaml(params_filepath)\n",
    "        self.schema = read_yaml(schema_filepath)\n",
    "\n",
    "        # Ensure necessary directories exist (e.g., for storing artifacts)\n",
    "        create_directories([self.config.artifacts_root])\n",
    "\n",
    "    def get_model_evaluation_config(self) -> ModelEvaluationConfig:\n",
    "        \"\"\"\n",
    "        Fetches the configuration parameters required for the model evaluation stage.\n",
    "        \n",
    "        Returns:\n",
    "        - ModelEvaluationConfig: Dataclass containing the configuration parameters for the model evaluation stage.\n",
    "        \"\"\"\n",
    "        config = self.config.model_evaluation\n",
    "        params = self.params.ElasticNet\n",
    "        schema = self.schema.TARGET_COLUMN\n",
    "\n",
    "        # Ensure the directory for model evaluation artifacts exists\n",
    "        create_directories([config.root_dir])\n",
    "\n",
    "        # Build the model evaluation configuration\n",
    "        model_evaluation_config = ModelEvaluationConfig(\n",
    "            root_dir=config.root_dir,\n",
    "            test_data_path=config.test_data_path,\n",
    "            model_path=config.model_path,\n",
    "            metric_file_name=config.metric_file_name,\n",
    "            all_params=params,\n",
    "            target_column=schema.name,\n",
    "            mlflow_uri=config.mlflow_uri\n",
    "        )\n",
    "\n",
    "        return model_evaluation_config\n"
   ]
  },
  {
   "cell_type": "markdown",
   "metadata": {},
   "source": [
    "Components"
   ]
  },
  {
   "cell_type": "code",
   "execution_count": 15,
   "metadata": {},
   "outputs": [],
   "source": [
    "import os\n",
    "import pandas as pd\n",
    "from sklearn.metrics import mean_absolute_error, mean_squared_error, r2_score\n",
    "from urllib.parse import urlparse\n",
    "import mlflow\n",
    "import mlflow.sklearn\n",
    "import numpy as np\n",
    "import joblib\n",
    "from pathlib import Path\n",
    "\n",
    "from src.pixi_hr.utils.common import save_json\n",
    "\n",
    "from pixi_hr.config.configuration import ModelEvaluationConfig"
   ]
  },
  {
   "cell_type": "code",
   "execution_count": 16,
   "metadata": {},
   "outputs": [],
   "source": [
    "class ModelEvaluation:\n",
    "    \"\"\"\n",
    "    ModelEvaluation class for evaluating a trained predictive model.\n",
    "    \"\"\"\n",
    "\n",
    "    def __init__(self, config: ModelEvaluationConfig):\n",
    "        \"\"\"\n",
    "        Initializes the ModelEvaluation class with the given configuration.\n",
    "        \n",
    "        Args:\n",
    "        - config (ModelEvaluationConfig): Configuration for the model evaluation.\n",
    "        \"\"\"\n",
    "        self.config = config\n",
    "\n",
    "    def eval_metrics(self, actual, predicted):\n",
    "        \"\"\"\n",
    "        Computes evaluation metrics for the model's predictions.\n",
    "\n",
    "        Args:\n",
    "        - actual (pd.Series): Actual target values.\n",
    "        - predicted (pd.Series): Predicted target values by the model.\n",
    "\n",
    "        Returns:\n",
    "        - tuple: RMSE, MAE, R2\n",
    "        \"\"\"\n",
    "        rmse = np.sqrt(mean_squared_error(actual, predicted))\n",
    "        mae = mean_absolute_error(actual, predicted)\n",
    "        r2 = r2_score(actual, predicted)\n",
    "        return rmse, mae, r2\n",
    "    \n",
    "    def load_data(self):\n",
    "        \"\"\"\n",
    "        Load the test data and the trained model.\n",
    "        \"\"\"\n",
    "        self.test_data = pd.read_csv(self.config.test_data_path)\n",
    "        self.model = joblib.load(self.config.model_path)\n",
    "\n",
    "    def preprocess_data(self):\n",
    "        \"\"\"\n",
    "        Preprocesses the test data: Drops unwanted columns and splits data into features and target.\n",
    "        \"\"\"\n",
    "        columns_to_drop = ['date_of_job_post', 'job_link', 'job_qualifications', \n",
    "                           'job_description', 'job_summary', 'date_of_job_post_temp']\n",
    "        self.test_data.drop(columns_to_drop, axis=1, inplace=True)\n",
    "        self.test_x = self.test_data.drop([self.config.target_column], axis=1)\n",
    "        self.test_y = self.test_data[self.config.target_column]\n",
    "\n",
    "    def log_into_mlflow(self):\n",
    "        \"\"\"\n",
    "        Logs model evaluation metrics and parameters into MLflow.\n",
    "        \"\"\"\n",
    "        self.load_data()\n",
    "        self.preprocess_data()\n",
    "\n",
    "        # Set MLflow registry URI\n",
    "        mlflow.set_registry_uri(self.config.mlflow_uri)\n",
    "        tracking_url_type_score = urlparse(mlflow.get_tracking_uri()).scheme\n",
    "\n",
    "        with mlflow.start_run():\n",
    "            predicted_qualities = self.model.predict(self.test_x)\n",
    "\n",
    "            (rmse, mae, r2) = self.eval_metrics(self.test_y, predicted_qualities)\n",
    "            scores = {\"rmse\": rmse, \"mae\": mae, \"r2\": r2}\n",
    "\n",
    "            # Save evaluation metrics to JSON file using the utility function\n",
    "            save_json(path=Path(self.config.metric_file_name), data=scores)\n",
    "\n",
    "            # Log parameters and metrics into MLflow\n",
    "            mlflow.log_params(self.config.all_params)\n",
    "            mlflow.log_metric(\"rmse\", rmse)\n",
    "            mlflow.log_metric(\"mae\", mae)\n",
    "            mlflow.log_metric(\"r2\", r2)\n",
    "\n",
    "            # Log model into MLflow\n",
    "            if tracking_url_type_score != \"file\":\n",
    "                mlflow.sklearn.log_model(self.model, \"model\", registered_model_name=\"ElasticnetModel\")\n",
    "            else:\n",
    "                mlflow.sklearn.log_model(self.model, \"model\")"
   ]
  },
  {
   "cell_type": "markdown",
   "metadata": {},
   "source": [
    "Pipeline"
   ]
  },
  {
   "cell_type": "code",
   "execution_count": 17,
   "metadata": {},
   "outputs": [
    {
     "name": "stdout",
     "output_type": "stream",
     "text": [
      "[2023-08-24 19:02:23,669: 53: pixi_hr_project_logger: INFO: 1258113260:  >>>>>> Stage: Model Evaluation Stage started <<<<<<]\n",
      "[2023-08-24 19:02:23,682: 41: pixi_hr_project_logger: INFO: common:  yaml file: config/config.yaml loaded successfully]\n",
      "[2023-08-24 19:02:23,685: 41: pixi_hr_project_logger: INFO: common:  yaml file: params.yaml loaded successfully]\n",
      "[2023-08-24 19:02:23,686: 41: pixi_hr_project_logger: INFO: common:  yaml file: schema.yaml loaded successfully]\n",
      "[2023-08-24 19:02:23,688: 64: pixi_hr_project_logger: INFO: common:  Created directory at: artifacts]\n",
      "[2023-08-24 19:02:23,688: 37: pixi_hr_project_logger: INFO: 1258113260:  Starting the Model Evaluation Pipeline]\n",
      "[2023-08-24 19:02:23,689: 64: pixi_hr_project_logger: INFO: common:  Created directory at: artifacts/model_evaluation]\n",
      "[2023-08-24 19:02:24,164: 85: pixi_hr_project_logger: INFO: common:  json file saved at: artifacts/model_evaluation/metrics.json]\n"
     ]
    },
    {
     "name": "stderr",
     "output_type": "stream",
     "text": [
      "/Users/macbookpro/miniconda3/envs/pixi_hr_environment/lib/python3.8/site-packages/sklearn/base.py:432: UserWarning: X has feature names, but ElasticNet was fitted without feature names\n",
      "  warnings.warn(\n",
      "Registered model 'ElasticnetModel' already exists. Creating a new version of this model...\n",
      "2023/08/24 19:02:32 INFO mlflow.tracking._model_registry.client: Waiting up to 300 seconds for model version to finish creation.                     Model name: ElasticnetModel, version 2\n",
      "Created version '2' of model 'ElasticnetModel'.\n"
     ]
    },
    {
     "name": "stdout",
     "output_type": "stream",
     "text": [
      "[2023-08-24 19:02:32,258: 48: pixi_hr_project_logger: INFO: 1258113260:  Model Evaluation Pipeline Completed Successfully.]\n",
      "[2023-08-24 19:02:32,259: 56: pixi_hr_project_logger: INFO: 1258113260:  >>>>>> Stage Model Evaluation Stage completed <<<<<< \n",
      "\n",
      "x==========x]\n"
     ]
    }
   ],
   "source": [
    "from pixi_hr import logger\n",
    "from pixi_hr.config.configuration import ConfigurationManager\n",
    "from pixi_hr.components.model_evaluation import ModelEvaluation\n",
    "\n",
    "\n",
    "class ModelEvaluationPipeline:\n",
    "    \"\"\"\n",
    "    Pipeline class for the model evaluation phase.\n",
    "\n",
    "    This pipeline performs the following steps:\n",
    "    1. Initializes the configuration manager.\n",
    "    2. Fetches the model evaluation configuration.\n",
    "    3. Initializes the ModelEvaluation component.\n",
    "    4. Logs evaluation metrics into MLFlow.\n",
    "\n",
    "    Attributes:\n",
    "    - STAGE_NAME (str): Name of the stage (used for logging purposes).\n",
    "    - config_manager (ConfigurationManager): Instance of the configuration manager.\n",
    "\n",
    "    Methods:\n",
    "    - main(): Executes the main functionality of the ModelEvaluationPipeline.\n",
    "    \"\"\"\n",
    "    \n",
    "    STAGE_NAME = \"Model Evaluation Stage\"\n",
    "\n",
    "    def __init__(self):\n",
    "        \"\"\"\n",
    "        Initializes the ModelEvaluationPipeline.\n",
    "        Sets up the configuration manager.\n",
    "        \"\"\"\n",
    "        self.config_manager = ConfigurationManager()\n",
    "\n",
    "    def main(self):\n",
    "        \"\"\"\n",
    "        Executes the main functionality of the ModelEvaluationPipeline.\n",
    "        \"\"\"\n",
    "        logger.info(\"Starting the Model Evaluation Pipeline\")\n",
    "\n",
    "        # Fetch the model evaluation configuration\n",
    "        model_evaluation_config = self.config_manager.get_model_evaluation_config()\n",
    "\n",
    "        # Initialize the ModelEvaluation component\n",
    "        model_evaluation = ModelEvaluation(config=model_evaluation_config)\n",
    "\n",
    "        # Log the evaluation metrics into MLFlow\n",
    "        model_evaluation.log_into_mlflow()\n",
    "\n",
    "        logger.info(\"Model Evaluation Pipeline Completed Successfully.\")\n",
    "\n",
    "\n",
    "if __name__ == '__main__':\n",
    "    try:\n",
    "        logger.info(f\">>>>>> Stage: {ModelEvaluationPipeline.STAGE_NAME} started <<<<<<\")\n",
    "        model_evaluation_pipeline = ModelEvaluationPipeline()\n",
    "        model_evaluation_pipeline.main()\n",
    "        logger.info(f\">>>>>> Stage {ModelEvaluationPipeline.STAGE_NAME} completed <<<<<< \\n\\nx==========x\")\n",
    "    except Exception as e:\n",
    "        logger.exception(f\"Error encountered during the {ModelEvaluationPipeline.STAGE_NAME}: {e}\")\n",
    "        raise\n"
   ]
  },
  {
   "cell_type": "code",
   "execution_count": null,
   "metadata": {},
   "outputs": [],
   "source": []
  }
 ],
 "metadata": {
  "kernelspec": {
   "display_name": "pixi_hr_environment",
   "language": "python",
   "name": "python3"
  },
  "language_info": {
   "codemirror_mode": {
    "name": "ipython",
    "version": 3
   },
   "file_extension": ".py",
   "mimetype": "text/x-python",
   "name": "python",
   "nbconvert_exporter": "python",
   "pygments_lexer": "ipython3",
   "version": "3.8.17"
  },
  "orig_nbformat": 4
 },
 "nbformat": 4,
 "nbformat_minor": 2
}
